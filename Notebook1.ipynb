{
    "metadata": {
        "kernelspec": {
            "name": "python3",
            "display_name": "Python 3.11",
            "language": "python"
        },
        "language_info": {
            "name": "python",
            "version": "3.11.9",
            "mimetype": "text/x-python",
            "codemirror_mode": {
                "name": "ipython",
                "version": 3
            },
            "pygments_lexer": "ipython3",
            "nbconvert_exporter": "python",
            "file_extension": ".py"
        }
    },
    "nbformat_minor": 4,
    "nbformat": 4,
    "cells": [
        {
            "cell_type": "code",
            "source": "print('abc')",
            "metadata": {
                "id": "3b9cf066-aac5-4fd5-ac44-351adbb6671f"
            },
            "outputs": [
                {
                    "name": "stdout",
                    "text": "abc\n",
                    "output_type": "stream"
                }
            ],
            "execution_count": 1
        },
        {
            "cell_type": "code",
            "source": "",
            "metadata": {
                "id": "fcff9dc9-c3f2-4e89-b28c-733b52a526f3"
            },
            "outputs": [],
            "execution_count": null
        },
        {
            "cell_type": "code",
            "source": "",
            "metadata": {
                "id": "81e09dd4-c326-4774-9c47-73f9e0f9f69e"
            },
            "outputs": [],
            "execution_count": null
        },
        {
            "cell_type": "code",
            "source": "",
            "metadata": {
                "id": "07139f58-5576-4acf-b8fa-dcec58f37d57"
            },
            "outputs": [],
            "execution_count": null
        }
    ]
}